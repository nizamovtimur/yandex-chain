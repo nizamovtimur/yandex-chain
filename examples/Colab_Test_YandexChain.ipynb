{
  "nbformat": 4,
  "nbformat_minor": 0,
  "metadata": {
    "colab": {
      "provenance": []
    },
    "kernelspec": {
      "name": "python3",
      "display_name": "Python 3"
    },
    "language_info": {
      "name": "python"
    }
  },
  "cells": [
    {
      "cell_type": "markdown",
      "source": [
        "## Yandex-Chain Test Notebook for Google Colab / Yandex Datasphere\n",
        "\n",
        "You can use this notebook to test yandex_chain library in the fresh Google Colab environment to make sure that everyting works fine."
      ],
      "metadata": {
        "id": "H7hCrbhYWHAC"
      }
    },
    {
      "cell_type": "code",
      "execution_count": 1,
      "metadata": {
        "colab": {
          "base_uri": "https://localhost:8080/"
        },
        "id": "n5p0bFDETZup",
        "outputId": "1d85ec43-6281-4e56-83df-8e7927441a13"
      },
      "outputs": [
        {
          "output_type": "stream",
          "name": "stdout",
          "text": [
            "Collecting git+http://github.com/yandex-datasphere/yandex-chain\n",
            "  Cloning http://github.com/yandex-datasphere/yandex-chain to /tmp/pip-req-build-mtfp5fiw\n",
            "  Running command git clone --filter=blob:none --quiet http://github.com/yandex-datasphere/yandex-chain /tmp/pip-req-build-mtfp5fiw\n",
            "  warning: redirecting to https://github.com/yandex-datasphere/yandex-chain/\n",
            "  Resolved http://github.com/yandex-datasphere/yandex-chain to commit aef41b6594285fc526be390adbd5c817a22abbe5\n",
            "  Preparing metadata (setup.py) ... \u001b[?25l\u001b[?25hdone\n",
            "Requirement already satisfied: requests in /usr/local/lib/python3.10/dist-packages (from yandex-chain==0.0.8) (2.31.0)\n",
            "Collecting langchain==0.2.1 (from yandex-chain==0.0.8)\n",
            "  Downloading langchain-0.2.1-py3-none-any.whl (973 kB)\n",
            "\u001b[2K     \u001b[90m━━━━━━━━━━━━━━━━━━━━━━━━━━━━━━━━━━━━━━━━\u001b[0m \u001b[32m973.5/973.5 kB\u001b[0m \u001b[31m7.8 MB/s\u001b[0m eta \u001b[36m0:00:00\u001b[0m\n",
            "\u001b[?25hRequirement already satisfied: tenacity in /usr/local/lib/python3.10/dist-packages (from yandex-chain==0.0.8) (8.3.0)\n",
            "Requirement already satisfied: PyYAML>=5.3 in /usr/local/lib/python3.10/dist-packages (from langchain==0.2.1->yandex-chain==0.0.8) (6.0.1)\n",
            "Requirement already satisfied: SQLAlchemy<3,>=1.4 in /usr/local/lib/python3.10/dist-packages (from langchain==0.2.1->yandex-chain==0.0.8) (2.0.30)\n",
            "Requirement already satisfied: aiohttp<4.0.0,>=3.8.3 in /usr/local/lib/python3.10/dist-packages (from langchain==0.2.1->yandex-chain==0.0.8) (3.9.5)\n",
            "Requirement already satisfied: async-timeout<5.0.0,>=4.0.0 in /usr/local/lib/python3.10/dist-packages (from langchain==0.2.1->yandex-chain==0.0.8) (4.0.3)\n",
            "Collecting langchain-core<0.3.0,>=0.2.0 (from langchain==0.2.1->yandex-chain==0.0.8)\n",
            "  Downloading langchain_core-0.2.2-py3-none-any.whl (309 kB)\n",
            "\u001b[2K     \u001b[90m━━━━━━━━━━━━━━━━━━━━━━━━━━━━━━━━━━━━━━━━\u001b[0m \u001b[32m309.5/309.5 kB\u001b[0m \u001b[31m9.9 MB/s\u001b[0m eta \u001b[36m0:00:00\u001b[0m\n",
            "\u001b[?25hCollecting langchain-text-splitters<0.3.0,>=0.2.0 (from langchain==0.2.1->yandex-chain==0.0.8)\n",
            "  Downloading langchain_text_splitters-0.2.0-py3-none-any.whl (23 kB)\n",
            "Collecting langsmith<0.2.0,>=0.1.17 (from langchain==0.2.1->yandex-chain==0.0.8)\n",
            "  Downloading langsmith-0.1.65-py3-none-any.whl (124 kB)\n",
            "\u001b[2K     \u001b[90m━━━━━━━━━━━━━━━━━━━━━━━━━━━━━━━━━━━━━━━━\u001b[0m \u001b[32m124.3/124.3 kB\u001b[0m \u001b[31m6.5 MB/s\u001b[0m eta \u001b[36m0:00:00\u001b[0m\n",
            "\u001b[?25hRequirement already satisfied: numpy<2,>=1 in /usr/local/lib/python3.10/dist-packages (from langchain==0.2.1->yandex-chain==0.0.8) (1.25.2)\n",
            "Requirement already satisfied: pydantic<3,>=1 in /usr/local/lib/python3.10/dist-packages (from langchain==0.2.1->yandex-chain==0.0.8) (2.7.1)\n",
            "Requirement already satisfied: charset-normalizer<4,>=2 in /usr/local/lib/python3.10/dist-packages (from requests->yandex-chain==0.0.8) (3.3.2)\n",
            "Requirement already satisfied: idna<4,>=2.5 in /usr/local/lib/python3.10/dist-packages (from requests->yandex-chain==0.0.8) (3.7)\n",
            "Requirement already satisfied: urllib3<3,>=1.21.1 in /usr/local/lib/python3.10/dist-packages (from requests->yandex-chain==0.0.8) (2.0.7)\n",
            "Requirement already satisfied: certifi>=2017.4.17 in /usr/local/lib/python3.10/dist-packages (from requests->yandex-chain==0.0.8) (2024.2.2)\n",
            "Requirement already satisfied: aiosignal>=1.1.2 in /usr/local/lib/python3.10/dist-packages (from aiohttp<4.0.0,>=3.8.3->langchain==0.2.1->yandex-chain==0.0.8) (1.3.1)\n",
            "Requirement already satisfied: attrs>=17.3.0 in /usr/local/lib/python3.10/dist-packages (from aiohttp<4.0.0,>=3.8.3->langchain==0.2.1->yandex-chain==0.0.8) (23.2.0)\n",
            "Requirement already satisfied: frozenlist>=1.1.1 in /usr/local/lib/python3.10/dist-packages (from aiohttp<4.0.0,>=3.8.3->langchain==0.2.1->yandex-chain==0.0.8) (1.4.1)\n",
            "Requirement already satisfied: multidict<7.0,>=4.5 in /usr/local/lib/python3.10/dist-packages (from aiohttp<4.0.0,>=3.8.3->langchain==0.2.1->yandex-chain==0.0.8) (6.0.5)\n",
            "Requirement already satisfied: yarl<2.0,>=1.0 in /usr/local/lib/python3.10/dist-packages (from aiohttp<4.0.0,>=3.8.3->langchain==0.2.1->yandex-chain==0.0.8) (1.9.4)\n",
            "Collecting jsonpatch<2.0,>=1.33 (from langchain-core<0.3.0,>=0.2.0->langchain==0.2.1->yandex-chain==0.0.8)\n",
            "  Downloading jsonpatch-1.33-py2.py3-none-any.whl (12 kB)\n",
            "Collecting packaging<24.0,>=23.2 (from langchain-core<0.3.0,>=0.2.0->langchain==0.2.1->yandex-chain==0.0.8)\n",
            "  Downloading packaging-23.2-py3-none-any.whl (53 kB)\n",
            "\u001b[2K     \u001b[90m━━━━━━━━━━━━━━━━━━━━━━━━━━━━━━━━━━━━━━━━\u001b[0m \u001b[32m53.0/53.0 kB\u001b[0m \u001b[31m4.2 MB/s\u001b[0m eta \u001b[36m0:00:00\u001b[0m\n",
            "\u001b[?25hCollecting orjson<4.0.0,>=3.9.14 (from langsmith<0.2.0,>=0.1.17->langchain==0.2.1->yandex-chain==0.0.8)\n",
            "  Downloading orjson-3.10.3-cp310-cp310-manylinux_2_17_x86_64.manylinux2014_x86_64.whl (142 kB)\n",
            "\u001b[2K     \u001b[90m━━━━━━━━━━━━━━━━━━━━━━━━━━━━━━━━━━━━━━━━\u001b[0m \u001b[32m142.5/142.5 kB\u001b[0m \u001b[31m4.6 MB/s\u001b[0m eta \u001b[36m0:00:00\u001b[0m\n",
            "\u001b[?25hRequirement already satisfied: annotated-types>=0.4.0 in /usr/local/lib/python3.10/dist-packages (from pydantic<3,>=1->langchain==0.2.1->yandex-chain==0.0.8) (0.7.0)\n",
            "Requirement already satisfied: pydantic-core==2.18.2 in /usr/local/lib/python3.10/dist-packages (from pydantic<3,>=1->langchain==0.2.1->yandex-chain==0.0.8) (2.18.2)\n",
            "Requirement already satisfied: typing-extensions>=4.6.1 in /usr/local/lib/python3.10/dist-packages (from pydantic<3,>=1->langchain==0.2.1->yandex-chain==0.0.8) (4.11.0)\n",
            "Requirement already satisfied: greenlet!=0.4.17 in /usr/local/lib/python3.10/dist-packages (from SQLAlchemy<3,>=1.4->langchain==0.2.1->yandex-chain==0.0.8) (3.0.3)\n",
            "Collecting jsonpointer>=1.9 (from jsonpatch<2.0,>=1.33->langchain-core<0.3.0,>=0.2.0->langchain==0.2.1->yandex-chain==0.0.8)\n",
            "  Downloading jsonpointer-2.4-py2.py3-none-any.whl (7.8 kB)\n",
            "Building wheels for collected packages: yandex-chain\n",
            "  Building wheel for yandex-chain (setup.py) ... \u001b[?25l\u001b[?25hdone\n",
            "  Created wheel for yandex-chain: filename=yandex_chain-0.0.8-py3-none-any.whl size=8363 sha256=dabf877ebb562a160c0cd232d3ca02468ac658d0d30cfc2e630f49b058a7c5ee\n",
            "  Stored in directory: /tmp/pip-ephem-wheel-cache-v04xl2rc/wheels/7b/e3/2f/af331a4bfc8fe5efad99d817ec7a2142fb3cdb6ca196080ae5\n",
            "Successfully built yandex-chain\n",
            "Installing collected packages: packaging, orjson, jsonpointer, jsonpatch, langsmith, langchain-core, langchain-text-splitters, langchain, yandex-chain\n",
            "  Attempting uninstall: packaging\n",
            "    Found existing installation: packaging 24.0\n",
            "    Uninstalling packaging-24.0:\n",
            "      Successfully uninstalled packaging-24.0\n",
            "Successfully installed jsonpatch-1.33 jsonpointer-2.4 langchain-0.2.1 langchain-core-0.2.2 langchain-text-splitters-0.2.0 langsmith-0.1.65 orjson-3.10.3 packaging-23.2 yandex-chain-0.0.8\n"
          ]
        }
      ],
      "source": [
        "%pip install git+http://github.com/yandex-datasphere/yandex-chain"
      ]
    },
    {
      "cell_type": "markdown",
      "source": [
        "> **IMPORTANT**: Upload `config.json` file with authentication info"
      ],
      "metadata": {
        "id": "4BqqYOWIVDYU"
      }
    },
    {
      "cell_type": "code",
      "source": [
        "from yandex_chain import YandexLLM, YandexEmbeddings, __version__\n",
        "import langchain\n",
        "\n",
        "print(f\"Using yandex_chain version {__version__}, langchain=={langchain.__version__}\")\n",
        "gpt = YandexLLM(config='config.json')\n",
        "print(gpt.invoke('Привет! Придумай 10 новых слов для приветствия.'))\n",
        "print(f\"Usage: {gpt.totalTokens} tokens\")\n",
        "\n",
        "emb = YandexEmbeddings(config='config.json')\n",
        "print(emb.embed_document('Hello, world'))\n"
      ],
      "metadata": {
        "colab": {
          "base_uri": "https://localhost:8080/"
        },
        "id": "sQKEhoiGU1IS",
        "outputId": "50da40d9-7084-4328-a860-0d44ff9f0614"
      },
      "execution_count": 4,
      "outputs": [
        {
          "output_type": "stream",
          "name": "stdout",
          "text": [
            "Using yandex_chain version 0.0.8, langchain==0.2.1\n",
            "Конечно, вот 10 придуманных слов для приветствий:\n",
            "\n",
            "1. Поздоровочно!\n",
            "2. Доброгодневам!\n",
            "3. Ладнопривет!\n",
            "4. Здравствовать!\n",
            "5. Мирногонеба!\n",
            "6. Добрыйговору!\n",
            "7. Нашеобъединение!\n",
            "8. Здравымздраво!\n",
            "9. Мироматушка!\n",
            "10. Свет-светило!\n",
            "Usage: 115 tokens\n",
            "[0.04998779296875, 0.0096588134765625, -0.0027141571044921875, -0.0692138671875, 0.004505157470703125, 0.054962158203125, -0.01462554931640625, -0.081787109375, 0.01195526123046875, -0.057525634765625, -0.03192138671875, -0.06939697265625, -0.002674102783203125, -0.0467529296875, -0.01473236083984375, 0.026611328125, 0.06048583984375, -0.01309967041015625, -0.0201263427734375, -0.070556640625, 0.07659912109375, -0.033935546875, -0.056793212890625, 0.0048065185546875, 0.025787353515625, 0.00870513916015625, -0.08355712890625, -0.0182952880859375, 0.07281494140625, 0.0162811279296875, -0.16162109375, 0.053070068359375, -0.01274871826171875, 0.051055908203125, -0.046051025390625, -0.045440673828125, -0.01247406005859375, -0.041961669921875, 0.11651611328125, 0.03240966796875, -0.08642578125, 0.043792724609375, 0.01346588134765625, -0.0063323974609375, -0.0014238357543945312, 0.037200927734375, -0.061676025390625, 0.0615234375, -0.0234527587890625, -0.0027904510498046875, -0.08917236328125, -0.0310211181640625, 0.06451416015625, 0.09173583984375, 0.028594970703125, -0.00836944580078125, -0.05364990234375, 0.08502197265625, -0.00783538818359375, 0.0036525726318359375, 0.02081298828125, 0.0213470458984375, 0.06634521484375, -0.0038394927978515625, 0.07305908203125, 0.060638427734375, -0.0419921875, -0.037933349609375, 0.04400634765625, -0.058349609375, -0.08123779296875, 0.00445556640625, 0.059814453125, -0.01357269287109375, -0.0153656005859375, -0.046905517578125, -0.0253448486328125, 0.047882080078125, 0.0234527587890625, 0.134521484375, -0.029327392578125, -0.04290771484375, 0.02642822265625, 0.004791259765625, -0.033294677734375, 0.0684814453125, -0.0313720703125, -0.022857666015625, -0.01338958740234375, 0.03131103515625, 0.034393310546875, 0.074951171875, 0.01049041748046875, -0.009490966796875, -0.08331298828125, 0.055419921875, -0.1336669921875, -0.13720703125, 0.042327880859375, -0.02886962890625, -0.0079345703125, -0.0721435546875, -0.002239227294921875, -0.038787841796875, -0.0207366943359375, -0.056304931640625, 0.052825927734375, -0.11907958984375, -0.033843994140625, 0.009521484375, 0.013458251953125, -0.1396484375, 0.035797119140625, 0.08465576171875, 0.135009765625, -0.10784912109375, -0.057891845703125, 0.033111572265625, -0.046051025390625, -0.12066650390625, 0.0165557861328125, 0.048736572265625, 0.0230255126953125, 0.029876708984375, -0.0173797607421875, -0.044158935546875, -0.12841796875, 0.00571441650390625, 0.09197998046875, 0.0384521484375, -0.0024776458740234375, 0.01499176025390625, 0.07843017578125, -0.041839599609375, 0.0859375, 0.06573486328125, 0.054229736328125, 0.046600341796875, 0.01111602783203125, 0.046478271484375, -0.0307159423828125, -0.076171875, 0.08624267578125, 0.158447265625, -0.07794189453125, -0.10308837890625, 0.0548095703125, 0.0419921875, 0.0165863037109375, 0.05072021484375, -0.08831787109375, 0.009490966796875, 0.0069732666015625, 0.08978271484375, -0.07501220703125, 0.0694580078125, -0.168701171875, -0.028656005859375, -0.038330078125, 0.061370849609375, -0.039459228515625, 0.00588226318359375, -0.035919189453125, 0.043121337890625, -0.2142333984375, -0.062042236328125, 0.039825439453125, -0.0312042236328125, -0.0182037353515625, -0.028961181640625, -0.0035190582275390625, -0.0018444061279296875, 0.0259857177734375, -0.09600830078125, 0.02813720703125, -0.06805419921875, -0.0305328369140625, -0.06951904296875, 0.1522216796875, -0.04791259765625, 0.10601806640625, 0.01168060302734375, -0.056884765625, -0.01496124267578125, 0.0030918121337890625, 0.029205322265625, -0.0276641845703125, 0.0279998779296875, 0.0740966796875, 0.07501220703125, -0.08612060546875, -0.01375579833984375, -0.0848388671875, 0.00872802734375, 0.0960693359375, 0.02294921875, -0.11151123046875, 0.0665283203125, 0.06561279296875, -0.034515380859375, 0.04803466796875, 0.0858154296875, 0.058074951171875, 0.087158203125, -0.034027099609375, -0.08074951171875, -0.0186004638671875, 0.03778076171875, 0.032958984375, 0.03253173828125, -0.06915283203125, 0.0679931640625, -0.07452392578125, 0.06005859375, -0.001430511474609375, -0.00861358642578125, 0.047271728515625, 0.01165771484375, 0.0941162109375, -0.057403564453125, -0.045806884765625, 0.083251953125, -0.004871368408203125, -0.05010986328125, -0.0999755859375, -0.0184326171875, 0.07177734375, 0.0047760009765625, -0.07501220703125, 0.07159423828125, 0.029541015625, 0.0067291259765625, 0.054351806640625, -0.053314208984375, -0.07293701171875, -0.0161590576171875, 0.052398681640625, 0.127685546875, -0.03570556640625, 0.08892822265625, -0.186767578125, 0.1307373046875, 0.03704833984375, -0.003971099853515625, 0.09222412109375, -0.0830078125, 0.0033702850341796875, 0.036468505859375, -0.031463623046875, 0.005290985107421875, -0.01605224609375, 0.0306854248046875, -0.0191192626953125, -0.08502197265625, -0.051727294921875, 0.09271240234375]\n"
          ]
        }
      ]
    },
    {
      "cell_type": "code",
      "source": [
        "from yandex_chain import ChatYandexGPT\n",
        "from langchain.schema import AIMessage, HumanMessage, SystemMessage\n",
        "\n",
        "gpt = ChatYandexGPT(config='config.json')\n",
        "print(gpt([HumanMessage(content='Привет! Придумай 10 новых слов для приветствия.')]))\n",
        "print(f\"Usage: {gpt.totalTokens} tokens\")\n"
      ],
      "metadata": {
        "colab": {
          "base_uri": "https://localhost:8080/"
        },
        "id": "ML5igM6TU_fC",
        "outputId": "5e2ed4a9-9553-4fbe-8265-1e67ff55b38b"
      },
      "execution_count": 5,
      "outputs": [
        {
          "output_type": "stream",
          "name": "stdout",
          "text": [
            "content='Конечно, я могу предложить примерно следующие варианты новых слов или фраз для приветствия:\\n1. Доброздравоваться  \\n2. Здравствуемничать\\n3. Гарнодействовать\\n4. Здоровьявам\\n5. Здравославие\\n6. Здравствовать безбрежно\\n7. Я вам всилух\\n8. Вовсе здорово\\n9. Здравжитие\\n10. Будьте все здоровы'\n",
            "Usage: 112 tokens\n"
          ]
        }
      ]
    },
    {
      "cell_type": "code",
      "source": [
        "from yandex_chain import YandexLLM, YandexGPTModel\n",
        "\n",
        "gpt = YandexLLM(config='config.json')\n",
        "\n",
        "gpt.model = YandexGPTModel.Lite\n",
        "print(\"=== LITE MODEL ===\")\n",
        "print(f\"URI: {gpt._modelUri}\")\n",
        "print(gpt.invoke('Привет! Придумай 10 новых креативных слов для приветствия, которыми могут пользоваться программисты.'))\n",
        "\n",
        "gpt.model = YandexGPTModel.LiteRC\n",
        "print(\"=== LITE RC MODEL ===\")\n",
        "print(f\"URI: {gpt._modelUri}\")\n",
        "print(gpt.invoke('Привет! Придумай 10 новых креативных слов для приветствия, которыми могут пользоваться программисты.'))\n",
        "\n",
        "gpt.model = YandexGPTModel.Pro\n",
        "print(\"=== FULL MODEL ===\")\n",
        "print(f\"URI: {gpt._modelUri}\")\n",
        "print(gpt.invoke('Привет! Придумай 10 новых креативных слов для приветствия, которыми могут пользоваться программисты.'))\n"
      ],
      "metadata": {
        "colab": {
          "base_uri": "https://localhost:8080/"
        },
        "id": "7XrhTbnTVYJ4",
        "outputId": "401f94a4-a150-4fed-8d4a-66f3ae69f1b2"
      },
      "execution_count": 8,
      "outputs": [
        {
          "output_type": "stream",
          "name": "stdout",
          "text": [
            "=== LITE MODEL ===\n",
            "URI: gpt://None/yandexgpt-lite/latest\n",
            "Конечно, вот 10 таких новых креативных приветствий, которые могут использовать программисты:\n",
            "1. «Хай, код!»  \n",
            "2. «Владствуй, машина!»  \n",
            "3. «Кей, бот!»  \n",
            "4. «Хэлп!» (английское слово *help*) – в переводе «Помощь!»\n",
            "5. «УлыбТехно™»\n",
            "6. «Мы с железом. Пока оно зелёное!»  \n",
            "7. «Эл, дружище!»  \n",
            "8. «Салют, мозги!»  \n",
            "9. «Гуд скрин»  \n",
            "10. «Ламповый момент!»\n",
            "*Данные слова использованы как примеры, чтобы отразить настроение и стиль программистских приветствий. Их значения могут отличаться от указанных. Данные выражения представлены так, как будто говорят аллограмные персонажи, пример образа которых можно найти [здесь](https://multmeeting.ru/token-stuffed-holograms?utm_source=direct&utm_medium=search&utm_campaign=yandex) – голограммы, состоящей из изображений персонажей, встроенных в красивую оболочку и стилизованных под девайс, где обычно находится клавиатура или мышь. Общий фоновый цвет и украшение корпусом, визуально схожим с девайсом разработчика._\n",
            "=== LITE RC MODEL ===\n",
            "URI: gpt://b1g6krtrd2vcbunvjpg6/yandexgpt-lite/rc\n",
            "Вот несколько возможных вариантов приветствия программистов:\n",
            "\n",
            "1. «Привет, кодеры, как сегодня обстоят дела с интеграцией алгоритмов?»\n",
            "2. «Доброе время суток, виртуальные манагеры, готовы к виртуализации идеи?»\n",
            "3. «Здравствуйте, мозговые алгоритмы, что у нас с разработкой сегодня?»\n",
            "4. «Приветствую, программистский мир, какие планы на кодирование сегодня?»\n",
            "5. «Добрый день, айти-коллеги, готовы ли мы к багрепортам сегодня?»\n",
            "6. «Здрасьте, цифровые трудяги, чем будем совершенствовать код сегодня?»\n",
            "7. «Эй, разработчики, как настроение, давайте напишем пару строк кода!»\n",
            "8. «Здорово, системные инженеры, какие новшества в наших проектах сегодня?»\n",
            "9. «Приветом, хакатонщики, к чему склоняемся в сегодняшней разработке?»\n",
            "10. «Йохо-хо, бравые кодеры, есть идеи для оптимизации кода?»\n",
            "=== FULL MODEL ===\n",
            "URI: gpt://b1g6krtrd2vcbunvjpg6/yandexgpt/latest\n",
            "Вот несколько креативных слов, которыми могут пользоваться программисты:\n",
            "\n",
            "1. Компилируем приветствие!\n",
            "2. Речевка по-программистски!\n",
            "3. Переключаемся на режим приветствия!\n",
            "4. Hello-код запущен!\n",
            "5. Подгружаем приветствие! \n",
            "6. Тестирование приветствия началось! \n",
            "7. Подключение к сети: «Привет»!\n",
            "8. Рассылка « Привет» запущена!\n",
            "9. Микротранзакции приветствия разрешены!\n",
            "10. Расширение «приветсленг» добавлено!\n"
          ]
        }
      ]
    },
    {
      "cell_type": "code",
      "source": [],
      "metadata": {
        "id": "aRDSLWwVVyz_"
      },
      "execution_count": null,
      "outputs": []
    }
  ]
}